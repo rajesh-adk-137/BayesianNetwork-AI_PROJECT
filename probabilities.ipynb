{
 "cells": [
  {
   "cell_type": "code",
   "execution_count": 2,
   "metadata": {},
   "outputs": [],
   "source": [
    "import pandas as pd\n",
    "import numpy as np\n"
   ]
  },
  {
   "cell_type": "code",
   "execution_count": 2,
   "metadata": {},
   "outputs": [],
   "source": [
    "parent_nodes = {\n",
    "    'precipitation': ['temp_min'],\n",
    "    'temp_max': [],\n",
    "    'temp_min': ['temp_max'],\n",
    "    'wind': ['temp_max', 'temp_min'],\n",
    "    'weather': ['precipitation', 'temp_max', 'temp_min', 'wind']\n",
    "}\n"
   ]
  },
  {
   "cell_type": "code",
   "execution_count": 3,
   "metadata": {},
   "outputs": [],
   "source": [
    "discrete_data = pd.read_csv('discretized_testing_data.csv')\n",
    "columns = discrete_data.columns[1:]\n",
    "length = len(discrete_data)\n"
   ]
  },
  {
   "cell_type": "code",
   "execution_count": 26,
   "metadata": {},
   "outputs": [],
   "source": [
    "feature_mapping = {\n",
    "    'very_low': 1,\n",
    "    'low': 2,\n",
    "    'medium': 3,\n",
    "    'high': 4,\n",
    "    'very_high': 5\n",
    "}\n",
    "weather_mapping = {\n",
    "    'sun': 1,\n",
    "    'snow': 2,\n",
    "    'rain': 3,\n",
    "    'drizzle': 4,\n",
    "    'fog': 5\n",
    "}"
   ]
  },
  {
   "cell_type": "code",
   "execution_count": 19,
   "metadata": {},
   "outputs": [
    {
     "name": "stdout",
     "output_type": "stream",
     "text": [
      "173\n"
     ]
    }
   ],
   "source": [
    "print(discrete_data['precipitation'].value_counts().get('very_low', 0))"
   ]
  },
  {
   "cell_type": "markdown",
   "metadata": {},
   "source": [
    "## Prior Probabilities\n"
   ]
  },
  {
   "cell_type": "code",
   "execution_count": 28,
   "metadata": {},
   "outputs": [],
   "source": [
    "\n",
    "prior_probabilities = { column : np.zeros(5) for column in columns}\n",
    "\n",
    "for column in columns:\n",
    "    if column != 'weather':\n",
    "        for value, index in feature_mapping.items():\n",
    "            prior_probabilities[column][index - 1] = discrete_data[column].value_counts().get(value, 0) / length\n",
    "    else:\n",
    "         for value, index in weather_mapping.items():\n",
    "            prior_probabilities[column][index - 1] = discrete_data[column].value_counts().get(value, 0) / length\n",
    "\n",
    "\n",
    "\n",
    "\n",
    "\n"
   ]
  },
  {
   "cell_type": "code",
   "execution_count": 29,
   "metadata": {},
   "outputs": [],
   "source": [
    "def prior_prob(prior_probabilities , variable , value):\n",
    "    feature_mapping = {\n",
    "    'very_low': 1,\n",
    "    'low': 2,\n",
    "    'medium': 3,\n",
    "    'high': 4,\n",
    "    'very_high': 5\n",
    "    }\n",
    "    weather_mapping = {\n",
    "    'sun': 1,\n",
    "    'snow': 2,\n",
    "    'rain': 3,\n",
    "    'drizzle': 4,\n",
    "    'fog': 5\n",
    "    }\n",
    "    if variable != 'weather':\n",
    "        return prior_probabilities[variable][feature_mapping[value]-1]\n",
    "    else:\n",
    "        return prior_probabilities[variable][weather_mapping[value]-1]"
   ]
  },
  {
   "cell_type": "code",
   "execution_count": null,
   "metadata": {},
   "outputs": [],
   "source": []
  },
  {
   "cell_type": "markdown",
   "metadata": {},
   "source": [
    "# Posterior probabilities\n"
   ]
  },
  {
   "cell_type": "code",
   "execution_count": 34,
   "metadata": {},
   "outputs": [],
   "source": [
    "def calculate_probabillity( weather , precipitation, min_temperature, max_temperature, wind , data, prior_probabilities):\n",
    "    parent_nodes = {\n",
    "    'precipitation': ['temp_min'],\n",
    "    'temp_max': [],\n",
    "    'temp_min': ['temp_max'],\n",
    "    'wind': ['temp_max', 'temp_min'],\n",
    "    'weather': ['precipitation', 'temp_max', 'temp_min', 'wind']\n",
    "    }\n",
    "\n",
    "    values = {\n",
    "        'precipitation' : precipitation,\n",
    "        'temp_min': min_temperature,\n",
    "        'temp_max' : max_temperature,\n",
    "        'wind' : wind\n",
    "        \n",
    "    }\n",
    "    final_probability = 1\n",
    "    values_df = weather_df = data\n",
    "    for child, parents in parent_nodes.items():\n",
    "        if parents:\n",
    "            for parent in parents:\n",
    "                values_df = values_df[values_df[parent] == values[parent]]\n",
    "            weather_df = values_df[values_df['weather']== weather]\n",
    "            final_probability *= (len(weather_df)/len(values_df))\n",
    "        else:\n",
    "            final_probability *= prior_prob(prior_probabilities, child , values[child])\n",
    "\n",
    "    \n",
    "    return final_probability\n",
    "\n",
    "            \n",
    "            \n",
    "                "
   ]
  },
  {
   "cell_type": "code",
   "execution_count": 35,
   "metadata": {},
   "outputs": [
    {
     "ename": "ZeroDivisionError",
     "evalue": "division by zero",
     "output_type": "error",
     "traceback": [
      "\u001b[1;31m---------------------------------------------------------------------------\u001b[0m",
      "\u001b[1;31mZeroDivisionError\u001b[0m                         Traceback (most recent call last)",
      "Cell \u001b[1;32mIn[35], line 1\u001b[0m\n\u001b[1;32m----> 1\u001b[0m \u001b[43mcalculate_probabillity\u001b[49m\u001b[43m(\u001b[49m\u001b[43mweather\u001b[49m\u001b[38;5;241;43m=\u001b[39;49m\u001b[38;5;124;43m'\u001b[39;49m\u001b[38;5;124;43msun\u001b[39;49m\u001b[38;5;124;43m'\u001b[39;49m\u001b[43m,\u001b[49m\u001b[43mprecipitation\u001b[49m\u001b[38;5;241;43m=\u001b[39;49m\u001b[38;5;124;43m'\u001b[39;49m\u001b[38;5;124;43mmedium\u001b[39;49m\u001b[38;5;124;43m'\u001b[39;49m\u001b[43m,\u001b[49m\u001b[43mmin_temperature\u001b[49m\u001b[38;5;241;43m=\u001b[39;49m\u001b[38;5;124;43m'\u001b[39;49m\u001b[38;5;124;43mmedium\u001b[39;49m\u001b[38;5;124;43m'\u001b[39;49m\u001b[43m,\u001b[49m\u001b[43m \u001b[49m\u001b[43mmax_temperature\u001b[49m\u001b[38;5;241;43m=\u001b[39;49m\u001b[38;5;124;43m'\u001b[39;49m\u001b[38;5;124;43mmedium\u001b[39;49m\u001b[38;5;124;43m'\u001b[39;49m\u001b[43m,\u001b[49m\u001b[43m \u001b[49m\u001b[43mwind\u001b[49m\u001b[38;5;241;43m=\u001b[39;49m\u001b[38;5;124;43m'\u001b[39;49m\u001b[38;5;124;43mmedium\u001b[39;49m\u001b[38;5;124;43m'\u001b[39;49m\u001b[43m,\u001b[49m\u001b[43m \u001b[49m\u001b[43mdata\u001b[49m\u001b[43m \u001b[49m\u001b[38;5;241;43m=\u001b[39;49m\u001b[43m \u001b[49m\u001b[43mdiscrete_data\u001b[49m\u001b[43m,\u001b[49m\u001b[43m \u001b[49m\u001b[43mprior_probabilities\u001b[49m\u001b[38;5;241;43m=\u001b[39;49m\u001b[43mprior_probabilities\u001b[49m\u001b[43m)\u001b[49m\n",
      "Cell \u001b[1;32mIn[34], line 24\u001b[0m, in \u001b[0;36mcalculate_probabillity\u001b[1;34m(weather, precipitation, min_temperature, max_temperature, wind, data, prior_probabilities)\u001b[0m\n\u001b[0;32m     22\u001b[0m         values_df \u001b[38;5;241m=\u001b[39m values_df[values_df[parent] \u001b[38;5;241m==\u001b[39m values[parent]]\n\u001b[0;32m     23\u001b[0m     weather_df \u001b[38;5;241m=\u001b[39m values_df[values_df[\u001b[38;5;124m'\u001b[39m\u001b[38;5;124mweather\u001b[39m\u001b[38;5;124m'\u001b[39m]\u001b[38;5;241m==\u001b[39m weather]\n\u001b[1;32m---> 24\u001b[0m     final_probability \u001b[38;5;241m*\u001b[39m\u001b[38;5;241m=\u001b[39m (\u001b[38;5;28;43mlen\u001b[39;49m\u001b[43m(\u001b[49m\u001b[43mweather_df\u001b[49m\u001b[43m)\u001b[49m\u001b[38;5;241;43m/\u001b[39;49m\u001b[38;5;28;43mlen\u001b[39;49m\u001b[43m(\u001b[49m\u001b[43mvalues_df\u001b[49m\u001b[43m)\u001b[49m)\n\u001b[0;32m     25\u001b[0m \u001b[38;5;28;01melse\u001b[39;00m:\n\u001b[0;32m     26\u001b[0m     final_probability \u001b[38;5;241m*\u001b[39m\u001b[38;5;241m=\u001b[39m prior_prob(prior_probabilities, child , values[child])\n",
      "\u001b[1;31mZeroDivisionError\u001b[0m: division by zero"
     ]
    }
   ],
   "source": [
    "calculate_probabillity(weather='sun',precipitation='medium',min_temperature='medium', max_temperature='medium', wind='medium', data = discrete_data, prior_probabilities=prior_probabilities)"
   ]
  }
 ],
 "metadata": {
  "kernelspec": {
   "display_name": "Python 3",
   "language": "python",
   "name": "python3"
  },
  "language_info": {
   "codemirror_mode": {
    "name": "ipython",
    "version": 3
   },
   "file_extension": ".py",
   "mimetype": "text/x-python",
   "name": "python",
   "nbconvert_exporter": "python",
   "pygments_lexer": "ipython3",
   "version": "3.11.0"
  }
 },
 "nbformat": 4,
 "nbformat_minor": 2
}
