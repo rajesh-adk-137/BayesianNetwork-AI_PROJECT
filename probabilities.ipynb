{
 "cells": [
  {
   "cell_type": "code",
   "execution_count": 18,
   "metadata": {},
   "outputs": [],
   "source": [
    "import pandas as pd\n",
    "import numpy as np\n"
   ]
  },
  {
   "cell_type": "code",
   "execution_count": 20,
   "metadata": {},
   "outputs": [],
   "source": [
    "parent_nodes = {\n",
    "    'precipitation': ['temp_min'],\n",
    "    'temp_max': [],\n",
    "    'temp_min': ['temp_max'],\n",
    "    'wind': ['temp_max', 'temp_min'],\n",
    "    'weather': ['precipitation', 'temp_max', 'temp_min', 'wind']\n",
    "}\n"
   ]
  },
  {
   "cell_type": "code",
   "execution_count": 34,
   "metadata": {},
   "outputs": [
    {
     "name": "stdout",
     "output_type": "stream",
     "text": [
      "         date  precipitation  temp_max  temp_min  wind  weather\n",
      "0  2014-12-02              1         1         1     5        5\n",
      "1  2013-09-30              5         3         3     5        3\n",
      "2  2014-03-10              5         2         2     2        3\n",
      "3  2013-01-15              1         1         1     2        1\n",
      "4  2012-10-30              5         3         4     3        3\n"
     ]
    }
   ],
   "source": [
    "discrete_data = pd.read_csv('train_numerically_labelled.csv')\n",
    "print(discrete_data.head())\n",
    "columns = discrete_data.columns[1:]\n",
    "length = len(discrete_data)\n"
   ]
  },
  {
   "cell_type": "code",
   "execution_count": 21,
   "metadata": {},
   "outputs": [],
   "source": [
    "feature_mapping = {\n",
    "    'very_low': 1,\n",
    "    'low': 2,\n",
    "    'medium': 3,\n",
    "    'high': 4,\n",
    "    'very_high': 5\n",
    "}\n",
    "weather_mapping = {\n",
    "    'sun': 1,\n",
    "    'snow': 2,\n",
    "    'rain': 3,\n",
    "    'drizzle': 4,\n",
    "    'fog': 5\n",
    "}"
   ]
  },
  {
   "cell_type": "code",
   "execution_count": 33,
   "metadata": {},
   "outputs": [
    {
     "name": "stdout",
     "output_type": "stream",
     "text": [
      "233\n"
     ]
    }
   ],
   "source": [
    "print(discrete_data['precipitation'].value_counts().get(1, 0))"
   ]
  },
  {
   "cell_type": "markdown",
   "metadata": {},
   "source": [
    "# Prior Probabilities\n"
   ]
  },
  {
   "cell_type": "code",
   "execution_count": 35,
   "metadata": {},
   "outputs": [],
   "source": [
    "\n",
    "prior_probabilities = { column : np.zeros(5) for column in columns}\n",
    "\n",
    "for column in columns:\n",
    "    for i in range(5):\n",
    "        prior_probabilities[column][i] = discrete_data[column].value_counts().get(i+1, 0) / length\n",
    "\n",
    "\n",
    "\n",
    "\n",
    "\n",
    "\n"
   ]
  },
  {
   "cell_type": "code",
   "execution_count": 36,
   "metadata": {},
   "outputs": [],
   "source": [
    "def prior_prob(prior_probabilities , variable , value):\n",
    "\n",
    "    return prior_probabilities[variable][value-1]\n"
   ]
  },
  {
   "cell_type": "markdown",
   "metadata": {},
   "source": [
    "# Posterior probabilities\n"
   ]
  },
  {
   "cell_type": "code",
   "execution_count": 31,
   "metadata": {},
   "outputs": [],
   "source": [
    "def calculate_probabillity( weather , precipitation, max_temperature, min_temperature, wind , data, prior_probabilities):\n",
    "    parent_nodes = {\n",
    "    'precipitation': ['temp_min'],\n",
    "    'temp_max': [],\n",
    "    'temp_min': ['temp_max'],\n",
    "    'wind': ['temp_max', 'temp_min'],\n",
    "    'weather': ['precipitation', 'temp_max', 'temp_min', 'wind']\n",
    "    }\n",
    "\n",
    "    values = {\n",
    "        'precipitation' : precipitation,\n",
    "        'temp_max' : max_temperature,\n",
    "        'temp_min': min_temperature,\n",
    "        'wind' : wind\n",
    "        \n",
    "    }\n",
    "    final_probability = 1\n",
    "    values_df = weather_df = data\n",
    "    for child, parents in parent_nodes.items():\n",
    "        if parents:\n",
    "            for parent in parents:\n",
    "                values_df = values_df[values_df[parent] == values[parent]] # b,c,d,e\n",
    "            weather_df = values_df[values_df['weather']== weather]\n",
    "            if values_df:\n",
    "                current_probablility = (len(weather_df)/len(values_df))\n",
    "            else:\n",
    "                current_probablility  = 0.2 #default value \n",
    "            final_probability *= current_probablility\n",
    "        else:\n",
    "            final_probability *= prior_prob(prior_probabilities, child , values[child])\n",
    "\n",
    "    return final_probability\n",
    "\n",
    "            \n",
    "            \n",
    "                "
   ]
  },
  {
   "cell_type": "code",
   "execution_count": 32,
   "metadata": {},
   "outputs": [
    {
     "ename": "ZeroDivisionError",
     "evalue": "division by zero",
     "output_type": "error",
     "traceback": [
      "\u001b[1;31m---------------------------------------------------------------------------\u001b[0m",
      "\u001b[1;31mZeroDivisionError\u001b[0m                         Traceback (most recent call last)",
      "Cell \u001b[1;32mIn[32], line 1\u001b[0m\n\u001b[1;32m----> 1\u001b[0m \u001b[43mcalculate_probabillity\u001b[49m\u001b[43m(\u001b[49m\u001b[38;5;124;43m'\u001b[39;49m\u001b[38;5;124;43msun\u001b[39;49m\u001b[38;5;124;43m'\u001b[39;49m\u001b[43m,\u001b[49m\u001b[38;5;124;43m'\u001b[39;49m\u001b[38;5;124;43mmedium\u001b[39;49m\u001b[38;5;124;43m'\u001b[39;49m\u001b[43m,\u001b[49m\u001b[38;5;124;43m'\u001b[39;49m\u001b[38;5;124;43mmedium\u001b[39;49m\u001b[38;5;124;43m'\u001b[39;49m\u001b[43m,\u001b[49m\u001b[38;5;124;43m'\u001b[39;49m\u001b[38;5;124;43mmedium\u001b[39;49m\u001b[38;5;124;43m'\u001b[39;49m\u001b[43m,\u001b[49m\u001b[38;5;124;43m'\u001b[39;49m\u001b[38;5;124;43mmedium\u001b[39;49m\u001b[38;5;124;43m'\u001b[39;49m\u001b[43m,\u001b[49m\u001b[43m \u001b[49m\u001b[43mdata\u001b[49m\u001b[43m \u001b[49m\u001b[38;5;241;43m=\u001b[39;49m\u001b[43m \u001b[49m\u001b[43mdiscrete_data\u001b[49m\u001b[43m,\u001b[49m\u001b[43m \u001b[49m\u001b[43mprior_probabilities\u001b[49m\u001b[38;5;241;43m=\u001b[39;49m\u001b[43mprior_probabilities\u001b[49m\u001b[43m)\u001b[49m\n",
      "Cell \u001b[1;32mIn[31], line 24\u001b[0m, in \u001b[0;36mcalculate_probabillity\u001b[1;34m(weather, precipitation, max_temperature, min_temperature, wind, data, prior_probabilities)\u001b[0m\n\u001b[0;32m     22\u001b[0m         values_df \u001b[38;5;241m=\u001b[39m values_df[values_df[parent] \u001b[38;5;241m==\u001b[39m values[parent]]\n\u001b[0;32m     23\u001b[0m     weather_df \u001b[38;5;241m=\u001b[39m values_df[values_df[\u001b[38;5;124m'\u001b[39m\u001b[38;5;124mweather\u001b[39m\u001b[38;5;124m'\u001b[39m]\u001b[38;5;241m==\u001b[39m weather]\n\u001b[1;32m---> 24\u001b[0m     final_probability \u001b[38;5;241m*\u001b[39m\u001b[38;5;241m=\u001b[39m (\u001b[38;5;28;43mlen\u001b[39;49m\u001b[43m(\u001b[49m\u001b[43mweather_df\u001b[49m\u001b[43m)\u001b[49m\u001b[38;5;241;43m/\u001b[39;49m\u001b[38;5;28;43mlen\u001b[39;49m\u001b[43m(\u001b[49m\u001b[43mvalues_df\u001b[49m\u001b[43m)\u001b[49m)\n\u001b[0;32m     25\u001b[0m \u001b[38;5;28;01melse\u001b[39;00m:\n\u001b[0;32m     26\u001b[0m     final_probability \u001b[38;5;241m*\u001b[39m\u001b[38;5;241m=\u001b[39m prior_prob(prior_probabilities, child , values[child])\n",
      "\u001b[1;31mZeroDivisionError\u001b[0m: division by zero"
     ]
    }
   ],
   "source": [
    "calculate_probabillity('sun','medium','medium','medium','medium', data = discrete_data, prior_probabilities=prior_probabilities)"
   ]
  },
  {
   "cell_type": "code",
   "execution_count": 10,
   "metadata": {},
   "outputs": [
    {
     "data": {
      "text/plain": [
       "0.11351228204592417"
      ]
     },
     "execution_count": 10,
     "metadata": {},
     "output_type": "execute_result"
    }
   ],
   "source": [
    "calculate_probabillity('sun','very_low','very_high','very_high','medium',data = discrete_data, prior_probabilities=prior_probabilities)"
   ]
  }
 ],
 "metadata": {
  "kernelspec": {
   "display_name": "Python 3",
   "language": "python",
   "name": "python3"
  },
  "language_info": {
   "codemirror_mode": {
    "name": "ipython",
    "version": 3
   },
   "file_extension": ".py",
   "mimetype": "text/x-python",
   "name": "python",
   "nbconvert_exporter": "python",
   "pygments_lexer": "ipython3",
   "version": "3.11.0"
  }
 },
 "nbformat": 4,
 "nbformat_minor": 2
}
